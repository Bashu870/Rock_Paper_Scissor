{
 "cells": [
  {
   "cell_type": "markdown",
   "id": "fd9250a4",
   "metadata": {},
   "source": [
    "# Rock paper scissors"
   ]
  },
  {
   "cell_type": "code",
   "execution_count": 14,
   "id": "4b19279d",
   "metadata": {},
   "outputs": [],
   "source": [
    "import random"
   ]
  },
  {
   "cell_type": "code",
   "execution_count": 6,
   "id": "95fdce3f",
   "metadata": {},
   "outputs": [
    {
     "name": "stdout",
     "output_type": "stream",
     "text": [
      "Type Rock/Paper/Scissor or q to quit rock\n",
      "computer picked rock.\n",
      "computer won\n",
      "Type Rock/Paper/Scissor or q to quit paper\n",
      "computer picked rock.\n",
      "you won\n",
      "Type Rock/Paper/Scissor or q to quit scissor\n",
      "computer picked rock.\n",
      "computer won\n",
      "Type Rock/Paper/Scissor or q to quit q\n",
      "You won 1 times\n",
      "computer won 2 times\n",
      "goodbye\n"
     ]
    }
   ],
   "source": [
    "user_wins = 0\n",
    "computer_wins = 0\n",
    "\n",
    "options= [ \"rock\" , \"paper\" , \"scissor\"]\n",
    "\n",
    "while True:\n",
    "    user_pick= input(\"Type Rock/Paper/Scissor or q to quit \").lower()\n",
    "    if user_pick == \"q\":\n",
    "        break\n",
    "        \n",
    "    if user_pick not in options:\n",
    "        continue\n",
    "        \n",
    "    random_num= random.randint(0 , 2)\n",
    "    # rock = 0 , paper = 1, scissor=2 \n",
    "    \n",
    "    computer_pick = options[random_num]\n",
    "    print(\"computer picked\" , computer_pick + \".\")\n",
    "    \n",
    "    \n",
    "    if user_pick == \"rock\" and computer_pick == \"scissor\":\n",
    "        print(\"you won\")\n",
    "        user_wins+=1\n",
    "        \n",
    "    elif user_pick == \"paper\" and computer_pick == \"rock\":\n",
    "        print(\"you won\")\n",
    "        user_wins+=1    \n",
    "    \n",
    "    elif user_pick == \"scissor\" and computer_pick == \"paper\":\n",
    "        print(\"you won\")\n",
    "        user_wins+=1\n",
    "        \n",
    "    else:\n",
    "        print(\"computer won\")\n",
    "        computer_wins+=1\n",
    "        \n",
    "        \n",
    "print(\"You won\" , user_wins , \"times\")\n",
    "print(\"computer won\" , computer_wins , \"times\")\n",
    "print(\"goodbye\")\n",
    "        \n",
    "        \n",
    "        \n",
    "\n",
    "    \n",
    "    \n",
    "        "
   ]
  }
 ],
 "metadata": {
  "kernelspec": {
   "display_name": "Python 3 (ipykernel)",
   "language": "python",
   "name": "python3"
  },
  "language_info": {
   "codemirror_mode": {
    "name": "ipython",
    "version": 3
   },
   "file_extension": ".py",
   "mimetype": "text/x-python",
   "name": "python",
   "nbconvert_exporter": "python",
   "pygments_lexer": "ipython3",
   "version": "3.9.13"
  }
 },
 "nbformat": 4,
 "nbformat_minor": 5
}
